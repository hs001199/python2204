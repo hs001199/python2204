{
 "cells": [
  {
   "cell_type": "code",
   "execution_count": 5,
   "id": "09f9d77a",
   "metadata": {},
   "outputs": [
    {
     "name": "stdout",
     "output_type": "stream",
     "text": [
      "hello! world\n"
     ]
    }
   ],
   "source": [
    "def hello():\n",
    "    print('hello! world')\n",
    "hello()"
   ]
  },
  {
   "cell_type": "code",
   "execution_count": 4,
   "id": "dc8c59bd",
   "metadata": {},
   "outputs": [
    {
     "name": "stdout",
     "output_type": "stream",
     "text": [
      "hello ! world\n"
     ]
    }
   ],
   "source": [
    "hello()"
   ]
  },
  {
   "cell_type": "code",
   "execution_count": 10,
   "id": "4b0f757a",
   "metadata": {},
   "outputs": [
    {
     "name": "stdout",
     "output_type": "stream",
     "text": [
      "hello, 철수야 good morning\n",
      "hello, ㄹㄹㄹ good morning\n"
     ]
    }
   ],
   "source": [
    "def greet(name):\n",
    "    print('hello, '+ name + ' good morning')\n",
    "greet(\"철수야\")\n",
    "greet(\"ㄹㄹㄹ\")"
   ]
  },
  {
   "cell_type": "code",
   "execution_count": 14,
   "id": "75f7a784",
   "metadata": {},
   "outputs": [
    {
     "name": "stdout",
     "output_type": "stream",
     "text": [
      "이름 :  홍길동\n",
      "나이 :  19\n",
      "주소 :  청주시 상당구\n"
     ]
    }
   ],
   "source": [
    "def personalInfo(age, name, address):\n",
    "    print('이름 : ', name)\n",
    "    print('나이 : ', age)\n",
    "    print('주소 : ', address)\n",
    "personalInfo(19,'홍길동', '청주시 상당구')"
   ]
  },
  {
   "cell_type": "code",
   "execution_count": 16,
   "id": "904fbb4e",
   "metadata": {},
   "outputs": [
    {
     "name": "stdout",
     "output_type": "stream",
     "text": [
      "6\n"
     ]
    }
   ],
   "source": [
    "def sum(a,b):\n",
    "    print(a+b)\n",
    "sum(1,5)"
   ]
  },
  {
   "cell_type": "code",
   "execution_count": 17,
   "id": "ac5a3e33",
   "metadata": {},
   "outputs": [
    {
     "name": "stdout",
     "output_type": "stream",
     "text": [
      "1500\n"
     ]
    }
   ],
   "source": [
    "sum(1000,500)"
   ]
  },
  {
   "cell_type": "code",
   "execution_count": 21,
   "id": "61cba40c",
   "metadata": {},
   "outputs": [
    {
     "name": "stdout",
     "output_type": "stream",
     "text": [
      "숫자 a를 입력하세요: 50\n",
      "숫자 b를 입력하세요 : 30\n",
      "50+30 = 80\n"
     ]
    }
   ],
   "source": [
    "def sumFuntion(num1, num2):\n",
    "    print('{0:d}+{1:d} = {2:d}'.format(num1, num2, num1+num2))\n",
    "\n",
    "a= int(input('숫자 a를 입력하세요: '))\n",
    "b= int(input('숫자 b를 입력하세요 : '))\n",
    "\n",
    "sumFuntion(a,b)"
   ]
  },
  {
   "cell_type": "code",
   "execution_count": 22,
   "id": "8f18612f",
   "metadata": {},
   "outputs": [],
   "source": [
    "def add(a,b):\n",
    "    return a + b"
   ]
  },
  {
   "cell_type": "code",
   "execution_count": 23,
   "id": "b8891aa6",
   "metadata": {},
   "outputs": [],
   "source": [
    "x = add(10,20)"
   ]
  },
  {
   "cell_type": "code",
   "execution_count": 24,
   "id": "7eeaf2f0",
   "metadata": {},
   "outputs": [
    {
     "data": {
      "text/plain": [
       "40"
      ]
     },
     "execution_count": 24,
     "metadata": {},
     "output_type": "execute_result"
    }
   ],
   "source": [
    "x+10"
   ]
  },
  {
   "cell_type": "code",
   "execution_count": 31,
   "id": "1fc4cd8f",
   "metadata": {},
   "outputs": [
    {
     "name": "stdout",
     "output_type": "stream",
     "text": [
      "30\n",
      "200\n"
     ]
    }
   ],
   "source": [
    "def functionAdd(num1, num2):\n",
    "    return num1+ num2, num1* num2\n",
    "r1, r2 = functionAdd(10,20)\n",
    "print(r1)\n",
    "print(r2)"
   ]
  },
  {
   "cell_type": "code",
   "execution_count": 35,
   "id": "38176918",
   "metadata": {},
   "outputs": [
    {
     "name": "stdout",
     "output_type": "stream",
     "text": [
      "30\n",
      "이 함수는 a 와 b를 더한뒤 결과를 반환하는 함수 입니다\n"
     ]
    }
   ],
   "source": [
    "def add(a,b):\n",
    "    \"\"\"이 함수는 a 와 b를 더한뒤 결과를 반환하는 함수 입니다\"\"\"\n",
    "    #여기는 주석입니다\n",
    "    \n",
    "    return a+b\n",
    "    x = add(10,20)\n",
    "    \n",
    "print(x)\n",
    "print(add.__doc__)"
   ]
  },
  {
   "cell_type": "code",
   "execution_count": 39,
   "id": "68d7f4e1",
   "metadata": {},
   "outputs": [
    {
     "name": "stdout",
     "output_type": "stream",
     "text": [
      "15\n",
      "33\n",
      "60\n"
     ]
    }
   ],
   "source": [
    "def total(a, b=2, c=3):\n",
    "    print(a + b + c)\n",
    "total(10)\n",
    "total(10,20)\n",
    "total(10,20,30)\n"
   ]
  },
  {
   "cell_type": "code",
   "execution_count": 41,
   "id": "329f5a3c",
   "metadata": {},
   "outputs": [
    {
     "name": "stdout",
     "output_type": "stream",
     "text": [
      "10\n",
      "30\n",
      "60\n"
     ]
    }
   ],
   "source": [
    "def total(a, b=0, c=0):\n",
    "    print(a + b + c)\n",
    "total(10)\n",
    "total(10,20)\n",
    "total(10,20,30)"
   ]
  },
  {
   "cell_type": "code",
   "execution_count": 46,
   "id": "d83e03e3",
   "metadata": {},
   "outputs": [
    {
     "name": "stdout",
     "output_type": "stream",
     "text": [
      "(10, 20, 30)\n"
     ]
    },
    {
     "data": {
      "text/plain": [
       "60"
      ]
     },
     "execution_count": 46,
     "metadata": {},
     "output_type": "execute_result"
    }
   ],
   "source": [
    "def varSum(*numbers):\n",
    "    print(numbers)\n",
    "    sum=0\n",
    "    for number in numbers:\n",
    "        sum+=number\n",
    "    return sum\n",
    "varSum(10,20,30)\n"
   ]
  },
  {
   "cell_type": "code",
   "execution_count": 49,
   "id": "d9e60af5",
   "metadata": {},
   "outputs": [
    {
     "name": "stdout",
     "output_type": "stream",
     "text": [
      "11 9\n"
     ]
    }
   ],
   "source": [
    "def calc(a,b):\n",
    "    add = a+b\n",
    "    sub = a-b\n",
    "    return add, sub\n",
    "add ,sub = calc(10,1)\n",
    "print(add, sub)\n",
    "    "
   ]
  },
  {
   "cell_type": "code",
   "execution_count": 50,
   "id": "daf42192",
   "metadata": {},
   "outputs": [
    {
     "name": "stdout",
     "output_type": "stream",
     "text": [
      "30\n",
      "200\n"
     ]
    }
   ],
   "source": [
    "def mul(a,b):\n",
    "    c = a * b\n",
    "    return c\n",
    "\n",
    "def add(a,b):\n",
    "    c= a +b\n",
    "    print(c)\n",
    "    d= mul(a,b)\n",
    "    print(d)\n",
    "\n",
    "x=10\n",
    "y=20\n",
    "add(x,y)"
   ]
  },
  {
   "cell_type": "code",
   "execution_count": 55,
   "id": "ebc7a5c4",
   "metadata": {},
   "outputs": [
    {
     "name": "stdout",
     "output_type": "stream",
     "text": [
      "3 10\n",
      "덧셈: 13, 뺄셈: -7, 곱셈: 30, 나눗셈: 0.3\n"
     ]
    }
   ],
   "source": [
    "x,y = map(int, input().split())\n",
    "\n",
    "def calc(x,y):\n",
    "    return x+y,x-y,x*y,(x/y)\n",
    "a,s,m,d = calc(x,y)\n",
    "print('덧셈: {0}, 뺄셈: {1}, 곱셈: {2}, 나눗셈: {3}'.format(a, s, m, d))"
   ]
  },
  {
   "cell_type": "code",
   "execution_count": 66,
   "id": "a6c4348d",
   "metadata": {},
   "outputs": [
    {
     "name": "stdout",
     "output_type": "stream",
     "text": [
      "사칙연산을 입력하세요(+,-,*,/): /\n",
      "첫번째 수를 입력하세요 : 50\n",
      "두번째 수를 입력하세요 : 10\n",
      "##계산기 : 50 / 10 = 5\n"
     ]
    }
   ],
   "source": [
    "#함수 선언\n",
    "def calc(v1,v2,op):\n",
    "    result = 0 #초기값 중요\n",
    "    if op== '+':\n",
    "        result = v1+v2\n",
    "    elif op== '-':\n",
    "        result = v1-v2\n",
    "    elif op == '*':\n",
    "        result = v1*v2\n",
    "    else: \n",
    "        result = v1/v2\n",
    "    return result\n",
    "\n",
    "\n",
    "res = 0\n",
    "var1,var2,oper = 0,0,\"\"\n",
    "\n",
    "oper = input('사칙연산을 입력하세요(+,-,*,/): ')\n",
    "var1 = int(input('첫번째 수를 입력하세요 : '))\n",
    "var2 = int(input('두번째 수를 입력하세요 : '))\n",
    "\n",
    "\n",
    "res = calc(var1, var2, oper)\n",
    "print('##계산기 : %d %s %d = %d'%(var1, oper, var2, res))\n",
    "\n",
    "    "
   ]
  },
  {
   "cell_type": "code",
   "execution_count": 67,
   "id": "08ed4c5f",
   "metadata": {},
   "outputs": [
    {
     "data": {
      "text/plain": [
       "11"
      ]
     },
     "execution_count": 67,
     "metadata": {},
     "output_type": "execute_result"
    }
   ],
   "source": [
    "def plus_ten(x):\n",
    "    return x+10\n",
    "plus_ten(1)"
   ]
  },
  {
   "cell_type": "code",
   "execution_count": 97,
   "id": "d91b0a3d",
   "metadata": {},
   "outputs": [
    {
     "name": "stdout",
     "output_type": "stream",
     "text": [
      "** 로또 추첨을 시작합니다. **\n",
      "\n",
      "추첨된 로또 번호는 ==> 14 15 19 22 25 41 "
     ]
    }
   ],
   "source": [
    "#로또 프로그램\n",
    "\n",
    "import random\n",
    "\n",
    "def getNumber():\n",
    "    return random.randrange(1,46)\n",
    "\n",
    "lotto = []\n",
    "num = 0\n",
    "print('** 로또 추첨을 시작합니다. **\\n')\n",
    "while True:\n",
    "    num = getNumber()\n",
    "    \n",
    "    if lotto.count(num) == 0:\n",
    "        lotto.append(num)\n",
    "    if len(lotto)>= 6 : \n",
    "        break\n",
    "print('추첨된 로또 번호는 ==>',end = ' ')\n",
    "lotto.sort()\n",
    "for i in range(0,6):\n",
    "    print('%d'%lotto[i],end =' ')"
   ]
  },
  {
   "cell_type": "code",
   "execution_count": 104,
   "id": "a129cdb7",
   "metadata": {
    "scrolled": true
   },
   "outputs": [
    {
     "name": "stdout",
     "output_type": "stream",
     "text": [
      "20\n",
      "10\n"
     ]
    }
   ],
   "source": [
    "x=10\n",
    "def foo():\n",
    "    x=20\n",
    "    print(x)\n",
    "foo()\n",
    "print(x)"
   ]
  },
  {
   "cell_type": "code",
   "execution_count": 105,
   "id": "5665d60d",
   "metadata": {},
   "outputs": [
    {
     "name": "stdout",
     "output_type": "stream",
     "text": [
      "지역변수\n",
      "전역변수\n",
      "전역변수\n"
     ]
    }
   ],
   "source": [
    "def func():\n",
    "    global global_var\n",
    "    local_var= '지역변수'\n",
    "    print(local_var)\n",
    "    print(global_var)\n",
    "global_var= '전역변수'\n",
    "func()\n",
    "print(global_var)"
   ]
  },
  {
   "cell_type": "code",
   "execution_count": 106,
   "id": "56b5402a",
   "metadata": {},
   "outputs": [
    {
     "name": "stdout",
     "output_type": "stream",
     "text": [
      "10\n",
      "지역변값: 20\n",
      "10\n"
     ]
    },
    {
     "ename": "NameError",
     "evalue": "name 't' is not defined",
     "output_type": "error",
     "traceback": [
      "\u001b[1;31m---------------------------------------------------------------------------\u001b[0m",
      "\u001b[1;31mNameError\u001b[0m                                 Traceback (most recent call last)",
      "Input \u001b[1;32mIn [106]\u001b[0m, in \u001b[0;36m<cell line: 9>\u001b[1;34m()\u001b[0m\n\u001b[0;32m      7\u001b[0m test(x)\n\u001b[0;32m      8\u001b[0m \u001b[38;5;28mprint\u001b[39m(x)\n\u001b[1;32m----> 9\u001b[0m \u001b[38;5;28mprint\u001b[39m(\u001b[43mt\u001b[49m)\n",
      "\u001b[1;31mNameError\u001b[0m: name 't' is not defined"
     ]
    }
   ],
   "source": [
    "# 중요\n",
    "\n",
    "def test(t):\n",
    "    print(x)\n",
    "    t = 20\n",
    "    print('지역변값:',t)\n",
    "\n",
    "x=10\n",
    "test(x)# test의 print(x)값 10 먼저 출력되고 지역변값 :t 도 출력\n",
    "print(x)\n",
    "print(t)"
   ]
  },
  {
   "cell_type": "code",
   "execution_count": null,
   "id": "fd983e99",
   "metadata": {},
   "outputs": [],
   "source": []
  },
  {
   "cell_type": "code",
   "execution_count": null,
   "id": "b169226c",
   "metadata": {},
   "outputs": [],
   "source": []
  }
 ],
 "metadata": {
  "kernelspec": {
   "display_name": "Python 3 (ipykernel)",
   "language": "python",
   "name": "python3"
  },
  "language_info": {
   "codemirror_mode": {
    "name": "ipython",
    "version": 3
   },
   "file_extension": ".py",
   "mimetype": "text/x-python",
   "name": "python",
   "nbconvert_exporter": "python",
   "pygments_lexer": "ipython3",
   "version": "3.10.4"
  }
 },
 "nbformat": 4,
 "nbformat_minor": 5
}
