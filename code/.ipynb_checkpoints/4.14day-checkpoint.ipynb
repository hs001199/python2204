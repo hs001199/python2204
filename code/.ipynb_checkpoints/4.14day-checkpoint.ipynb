{
 "cells": [
  {
   "cell_type": "code",
   "execution_count": 4,
   "id": "f7f997ad",
   "metadata": {},
   "outputs": [],
   "source": [
    "x=5\n",
    "if x==10 : \n",
    "    print('10입니다')"
   ]
  },
  {
   "cell_type": "code",
   "execution_count": 5,
   "id": "03df70f1",
   "metadata": {},
   "outputs": [
    {
     "name": "stdout",
     "output_type": "stream",
     "text": [
      "x에 들어있는 숫자는\n",
      "10입니다\n"
     ]
    }
   ],
   "source": [
    "x = 10\n",
    "if x==10:\n",
    "    print('x에 들어있는 숫자는')\n",
    "print('10입니다')  #if와 상관없이 출력 (들여쓰기 안해서!!!!!!!!!)\n",
    "# if 문이 영향을 주기 위해서는 들어쓰기 필요"
   ]
  },
  {
   "cell_type": "code",
   "execution_count": 7,
   "id": "59bd298b",
   "metadata": {},
   "outputs": [
    {
     "name": "stdout",
     "output_type": "stream",
     "text": [
      "임의의 숫자를 입력: 500\n",
      "프로그램 종료\n"
     ]
    }
   ],
   "source": [
    "a = int(input('임의의 숫자를 입력: '))\n",
    "if a < 100 : \n",
    "    print('100보다 작은수')\n",
    "print('프로그램 종료')"
   ]
  },
  {
   "cell_type": "code",
   "execution_count": 10,
   "id": "ffc282ec",
   "metadata": {},
   "outputs": [
    {
     "name": "stdout",
     "output_type": "stream",
     "text": [
      "100000000000000000000000000000\n",
      "pass\n"
     ]
    }
   ],
   "source": [
    "x= int(input())\n",
    "if x!= 20:\n",
    "    print('pass')  #!=같이 않다"
   ]
  },
  {
   "cell_type": "code",
   "execution_count": 20,
   "id": "151d2149",
   "metadata": {},
   "outputs": [
    {
     "name": "stdout",
     "output_type": "stream",
     "text": [
      "가격 입력50000\n",
      "쿠폰이름 입력sale5000\\\n",
      "가격은 ?\n",
      "45000\n"
     ]
    }
   ],
   "source": [
    "a=int(input('가격 입력'))\n",
    "b=str(input('쿠폰이름 입력'))  #텍스트로 받는다 str\n",
    "print(\"가격은 ?\")\n",
    "if b=='sale3000' : \n",
    "    print(a-3000)\n",
    "else:\n",
    "    print(a-5000)\n",
    "    \n",
    "    \n",
    "#if b=='sale3000'\n",
    "#    a-=3000\n",
    "#if b=='sale5000':\n",
    "#   a-=5000\n",
    "#print(a)\n",
    "\n"
   ]
  },
  {
   "cell_type": "code",
   "execution_count": 36,
   "id": "2c380a4a",
   "metadata": {
    "scrolled": true
   },
   "outputs": [
    {
     "ename": "KeyboardInterrupt",
     "evalue": "Interrupted by user",
     "output_type": "error",
     "traceback": [
      "\u001b[1;31m---------------------------------------------------------------------------\u001b[0m",
      "\u001b[1;31mKeyboardInterrupt\u001b[0m                         Traceback (most recent call last)",
      "Input \u001b[1;32mIn [36]\u001b[0m, in \u001b[0;36m<cell line: 1>\u001b[1;34m()\u001b[0m\n\u001b[1;32m----> 1\u001b[0m a\u001b[38;5;241m=\u001b[39m \u001b[38;5;28mint\u001b[39m(\u001b[38;5;28;43minput\u001b[39;49m\u001b[43m(\u001b[49m\u001b[38;5;124;43m'\u001b[39;49m\u001b[38;5;124;43m임의 숫자 입력: \u001b[39;49m\u001b[38;5;124;43m'\u001b[39;49m\u001b[43m)\u001b[49m)\n\u001b[0;32m      2\u001b[0m \u001b[38;5;28;01mif\u001b[39;00m a\u001b[38;5;241m>\u001b[39m\u001b[38;5;241m100\u001b[39m :\n\u001b[0;32m      3\u001b[0m     \u001b[38;5;28mprint\u001b[39m(\u001b[38;5;124m'\u001b[39m\u001b[38;5;124ma는 100보다 큰수\u001b[39m\u001b[38;5;124m'\u001b[39m)\n",
      "File \u001b[1;32m~\\AppData\\Local\\Programs\\Python\\Python310\\lib\\site-packages\\ipykernel\\kernelbase.py:1159\u001b[0m, in \u001b[0;36mKernel.raw_input\u001b[1;34m(self, prompt)\u001b[0m\n\u001b[0;32m   1155\u001b[0m \u001b[38;5;28;01mif\u001b[39;00m \u001b[38;5;129;01mnot\u001b[39;00m \u001b[38;5;28mself\u001b[39m\u001b[38;5;241m.\u001b[39m_allow_stdin:\n\u001b[0;32m   1156\u001b[0m     \u001b[38;5;28;01mraise\u001b[39;00m StdinNotImplementedError(\n\u001b[0;32m   1157\u001b[0m         \u001b[38;5;124m\"\u001b[39m\u001b[38;5;124mraw_input was called, but this frontend does not support input requests.\u001b[39m\u001b[38;5;124m\"\u001b[39m\n\u001b[0;32m   1158\u001b[0m     )\n\u001b[1;32m-> 1159\u001b[0m \u001b[38;5;28;01mreturn\u001b[39;00m \u001b[38;5;28;43mself\u001b[39;49m\u001b[38;5;241;43m.\u001b[39;49m\u001b[43m_input_request\u001b[49m\u001b[43m(\u001b[49m\n\u001b[0;32m   1160\u001b[0m \u001b[43m    \u001b[49m\u001b[38;5;28;43mstr\u001b[39;49m\u001b[43m(\u001b[49m\u001b[43mprompt\u001b[49m\u001b[43m)\u001b[49m\u001b[43m,\u001b[49m\n\u001b[0;32m   1161\u001b[0m \u001b[43m    \u001b[49m\u001b[38;5;28;43mself\u001b[39;49m\u001b[38;5;241;43m.\u001b[39;49m\u001b[43m_parent_ident\u001b[49m\u001b[43m[\u001b[49m\u001b[38;5;124;43m\"\u001b[39;49m\u001b[38;5;124;43mshell\u001b[39;49m\u001b[38;5;124;43m\"\u001b[39;49m\u001b[43m]\u001b[49m\u001b[43m,\u001b[49m\n\u001b[0;32m   1162\u001b[0m \u001b[43m    \u001b[49m\u001b[38;5;28;43mself\u001b[39;49m\u001b[38;5;241;43m.\u001b[39;49m\u001b[43mget_parent\u001b[49m\u001b[43m(\u001b[49m\u001b[38;5;124;43m\"\u001b[39;49m\u001b[38;5;124;43mshell\u001b[39;49m\u001b[38;5;124;43m\"\u001b[39;49m\u001b[43m)\u001b[49m\u001b[43m,\u001b[49m\n\u001b[0;32m   1163\u001b[0m \u001b[43m    \u001b[49m\u001b[43mpassword\u001b[49m\u001b[38;5;241;43m=\u001b[39;49m\u001b[38;5;28;43;01mFalse\u001b[39;49;00m\u001b[43m,\u001b[49m\n\u001b[0;32m   1164\u001b[0m \u001b[43m\u001b[49m\u001b[43m)\u001b[49m\n",
      "File \u001b[1;32m~\\AppData\\Local\\Programs\\Python\\Python310\\lib\\site-packages\\ipykernel\\kernelbase.py:1201\u001b[0m, in \u001b[0;36mKernel._input_request\u001b[1;34m(self, prompt, ident, parent, password)\u001b[0m\n\u001b[0;32m   1198\u001b[0m             \u001b[38;5;28;01mbreak\u001b[39;00m\n\u001b[0;32m   1199\u001b[0m \u001b[38;5;28;01mexcept\u001b[39;00m \u001b[38;5;167;01mKeyboardInterrupt\u001b[39;00m:\n\u001b[0;32m   1200\u001b[0m     \u001b[38;5;66;03m# re-raise KeyboardInterrupt, to truncate traceback\u001b[39;00m\n\u001b[1;32m-> 1201\u001b[0m     \u001b[38;5;28;01mraise\u001b[39;00m \u001b[38;5;167;01mKeyboardInterrupt\u001b[39;00m(\u001b[38;5;124m\"\u001b[39m\u001b[38;5;124mInterrupted by user\u001b[39m\u001b[38;5;124m\"\u001b[39m) \u001b[38;5;28;01mfrom\u001b[39;00m \u001b[38;5;28mNone\u001b[39m\n\u001b[0;32m   1202\u001b[0m \u001b[38;5;28;01mexcept\u001b[39;00m \u001b[38;5;167;01mException\u001b[39;00m:\n\u001b[0;32m   1203\u001b[0m     \u001b[38;5;28mself\u001b[39m\u001b[38;5;241m.\u001b[39mlog\u001b[38;5;241m.\u001b[39mwarning(\u001b[38;5;124m\"\u001b[39m\u001b[38;5;124mInvalid Message:\u001b[39m\u001b[38;5;124m\"\u001b[39m, exc_info\u001b[38;5;241m=\u001b[39m\u001b[38;5;28;01mTrue\u001b[39;00m)\n",
      "\u001b[1;31mKeyboardInterrupt\u001b[0m: Interrupted by user"
     ]
    }
   ],
   "source": [
    "a= int(input('임의 숫자 입력: '))\n",
    "if a>100 :\n",
    "    print('a는 100보다 큰수')\n",
    "else :\n",
    "    print('a는 100보다 작거나 같은수')\n",
    "print('프로그램 종료')\n"
   ]
  },
  {
   "cell_type": "code",
   "execution_count": 27,
   "id": "efeb02b6",
   "metadata": {},
   "outputs": [
    {
     "name": "stdout",
     "output_type": "stream",
     "text": [
      "참\n"
     ]
    }
   ],
   "source": [
    "x=5\n",
    "y=20\n",
    "if x==10 or y==20:\n",
    "    print('참')\n",
    "else:\n",
    "    print('거짓')"
   ]
  },
  {
   "cell_type": "code",
   "execution_count": 28,
   "id": "868647ab",
   "metadata": {},
   "outputs": [
    {
     "name": "stdout",
     "output_type": "stream",
     "text": [
      "불합격\n"
     ]
    }
   ],
   "source": [
    "written_test = 75\n",
    "interview_test = True\n",
    "\n",
    "if written_test >= 80 and interview_test == True:\n",
    "    print('합격')\n",
    "else:\n",
    "    print('불합격')\n",
    "    "
   ]
  },
  {
   "cell_type": "code",
   "execution_count": 34,
   "id": "df46ea48",
   "metadata": {},
   "outputs": [
    {
     "name": "stdout",
     "output_type": "stream",
     "text": [
      "100 100 100 100\n",
      "합격\n"
     ]
    }
   ],
   "source": [
    "a,b,c,d = map(int,input().split())\n",
    "\n",
    "if 0<=a<=100 and 0<=b<=100 and 0<=c<=100 and 0<=d<=100:\n",
    "    if (a+b+c+d)/4 >= 80:\n",
    "        print('합격')\n",
    "    else:\n",
    "        print('불합격')\n",
    "else:\n",
    "    print('잘못된점수')"
   ]
  },
  {
   "cell_type": "code",
   "execution_count": 38,
   "id": "9007ae3e",
   "metadata": {},
   "outputs": [
    {
     "name": "stdout",
     "output_type": "stream",
     "text": [
      "10입니다\n"
     ]
    }
   ],
   "source": [
    "x =10\n",
    "if x== 10:\n",
    "    print('10입니다')\n",
    "elif x==20:\n",
    "    print('20입니다')"
   ]
  },
  {
   "cell_type": "code",
   "execution_count": 40,
   "id": "40932bfd",
   "metadata": {},
   "outputs": [
    {
     "name": "stdout",
     "output_type": "stream",
     "text": [
      "5\n",
      "제공하지 않는메뉴\n"
     ]
    }
   ],
   "source": [
    "button = int(input())\n",
    "\n",
    "if button ==1:\n",
    "    print('콜라')\n",
    "elif button == 2:\n",
    "    print('사이다')\n",
    "elif button == 3 : \n",
    "    print('환타')\n",
    "else:\n",
    "    print('제공하지 않는메뉴')"
   ]
  },
  {
   "cell_type": "code",
   "execution_count": 43,
   "id": "572ac6e7",
   "metadata": {},
   "outputs": [
    {
     "name": "stdout",
     "output_type": "stream",
     "text": [
      "당신의 태어난 연도를 입력하세요\n",
      "2011\n",
      "초딩\n"
     ]
    }
   ],
   "source": [
    "print('당신의 태어난 연도를 입력하세요')\n",
    "birth_year = input()\n",
    "age = 2022- int(birth_year)+1\n",
    "if 20<= age and age <=26:\n",
    "    print('대학생')\n",
    "elif age<20 and age>=17:\n",
    "    print('고등학생')\n",
    "elif age< 17 and age>=14:\n",
    "    print('중학생')\n",
    "elif age<14 and age>=8 :\n",
    "    print('초딩')\n",
    "else:\n",
    "    print('학생 아님')"
   ]
  },
  {
   "cell_type": "code",
   "execution_count": 45,
   "id": "a074457e",
   "metadata": {},
   "outputs": [
    {
     "name": "stdout",
     "output_type": "stream",
     "text": [
      "성별을 입력하세요(M:남자/F:여자) : m\n",
      "나이를 입력: 23\n",
      "20대 이상 남자\n"
     ]
    }
   ],
   "source": [
    "gender = input(\"성별을 입력하세요(M:남자/F:여자) : \")\n",
    "age = int(input(\"나이를 입력: \"))\n",
    "if gender == 'M' or 'm':\n",
    "    if age>=40 : \n",
    "        print('40대 이상 남자')\n",
    "    elif age>= 30:\n",
    "        print('30대 이상 남자')\n",
    "    elif age>=20:\n",
    "        print('20대 이상 남자')\n",
    "    else:\n",
    "        print('10 대 이하 남자')\n",
    "else:\n",
    "    if age >=40 :\n",
    "        print('40대 이상 여자')\n",
    "    elif age>= 30:\n",
    "        print('30대 이상 여자')\n",
    "    elif age>=20:\n",
    "        print(\"20대 이상 여자\")\n",
    "    else:\n",
    "        print('10대 이하 여자')"
   ]
  },
  {
   "cell_type": "code",
   "execution_count": 50,
   "id": "bc4076fc",
   "metadata": {},
   "outputs": [
    {
     "name": "stdout",
     "output_type": "stream",
     "text": [
      "탑승자의 만 나이를 입력 :30\n",
      "남은 잔액은 8750원 입니다\n"
     ]
    }
   ],
   "source": [
    "age = int(input('탑승자의 만 나이를 입력 :'))\n",
    "card =10000\n",
    "if age >=7 and age<=12 :\n",
    "    card= 10000-650 # card = card-650  (card-= 650)\n",
    "elif age>=13 and age<=18:\n",
    "    card = 10000-1050\n",
    "elif age>=19 and age<65:\n",
    "    card = 10000-1250\n",
    "else:\n",
    "    card =10000\n",
    "print('남은 잔액은 %d원 입니다'%card)"
   ]
  },
  {
   "cell_type": "code",
   "execution_count": 62,
   "id": "1e86496b",
   "metadata": {
    "scrolled": false
   },
   "outputs": [
    {
     "name": "stdout",
     "output_type": "stream",
     "text": [
      "korea english society점수를 순서대로 입력하세요80 80 80\n",
      "총점:  240 평균:  80.0\n",
      "국어점수 : 80\n",
      "영어점수 : 80\n",
      "사회점수 :  80\n",
      "등급:B\n"
     ]
    }
   ],
   "source": [
    "korea, english, society = map(int,input('korea english society점수를 순서대로 입력하세요').split())\n",
    "print(\"총점: \" ,korea+english+society,\"평균: \" ,(korea+english+society)/3)\n",
    "print(\"국어점수 :\",korea)\n",
    "print('영어점수 :',english)\n",
    "print('사회점수 : ',society)\n",
    "\n",
    "avg = (korea+english+society)/3\n",
    "if avg>=90:\n",
    "    print(\"등급:A\")\n",
    "elif avg>=80:\n",
    "    print(\"등급:B\")\n",
    "elif avg>=70:\n",
    "    print('등급:C')\n",
    "else:\n",
    "    print('등급:D')\n"
   ]
  },
  {
   "cell_type": "code",
   "execution_count": 61,
   "id": "b23e7af1",
   "metadata": {},
   "outputs": [
    {
     "name": "stdout",
     "output_type": "stream",
     "text": [
      "korea english society점수를 순서대로 입력하세요80 80 80\n",
      "총점 : 240 평균: 80 등급 : B\n",
      "80\n",
      "80\n",
      "사회점수 :80\n",
      "등급B: \n"
     ]
    }
   ],
   "source": [
    "korea, english, society = map(int,input('korea english society점수를 순서대로 입력하세요').split())\n",
    "sum = korea + english + society\n",
    "avg =sum /3\n",
    "if avg>=90:\n",
    "    grade = 'A'\n",
    "elif avg>=80:\n",
    "    grade = 'B'\n",
    "elif avg>=70:\n",
    "    grade = 'C'\n",
    "else:\n",
    "    grade = 'D'\n",
    "print('총점 : %d 평균: %d 등급 : %s'%(sum,avg,grade))\n",
    "print(korea)\n",
    "print(english)\n",
    "print('사회점수 :%d'%society)\n",
    "print('등급%s: '%grade)"
   ]
  },
  {
   "cell_type": "code",
   "execution_count": 63,
   "id": "61b6f920",
   "metadata": {},
   "outputs": [
    {
     "name": "stdout",
     "output_type": "stream",
     "text": [
      "hi 0\n",
      "hi 1\n",
      "hi 2\n",
      "hi 3\n",
      "hi 4\n",
      "hi 5\n",
      "hi 6\n",
      "hi 7\n",
      "hi 8\n",
      "hi 9\n",
      "hi 10\n",
      "hi 11\n",
      "hi 12\n",
      "hi 13\n",
      "hi 14\n",
      "hi 15\n",
      "hi 16\n",
      "hi 17\n",
      "hi 18\n",
      "hi 19\n",
      "hi 20\n",
      "hi 21\n",
      "hi 22\n",
      "hi 23\n",
      "hi 24\n",
      "hi 25\n",
      "hi 26\n",
      "hi 27\n",
      "hi 28\n",
      "hi 29\n",
      "hi 30\n",
      "hi 31\n",
      "hi 32\n",
      "hi 33\n",
      "hi 34\n",
      "hi 35\n",
      "hi 36\n",
      "hi 37\n",
      "hi 38\n",
      "hi 39\n",
      "hi 40\n",
      "hi 41\n",
      "hi 42\n",
      "hi 43\n",
      "hi 44\n",
      "hi 45\n",
      "hi 46\n",
      "hi 47\n",
      "hi 48\n",
      "hi 49\n",
      "hi 50\n",
      "hi 51\n",
      "hi 52\n",
      "hi 53\n",
      "hi 54\n",
      "hi 55\n",
      "hi 56\n",
      "hi 57\n",
      "hi 58\n",
      "hi 59\n",
      "hi 60\n",
      "hi 61\n",
      "hi 62\n",
      "hi 63\n",
      "hi 64\n",
      "hi 65\n",
      "hi 66\n",
      "hi 67\n",
      "hi 68\n",
      "hi 69\n",
      "hi 70\n",
      "hi 71\n",
      "hi 72\n",
      "hi 73\n",
      "hi 74\n",
      "hi 75\n",
      "hi 76\n",
      "hi 77\n",
      "hi 78\n",
      "hi 79\n",
      "hi 80\n",
      "hi 81\n",
      "hi 82\n",
      "hi 83\n",
      "hi 84\n",
      "hi 85\n",
      "hi 86\n",
      "hi 87\n",
      "hi 88\n",
      "hi 89\n",
      "hi 90\n",
      "hi 91\n",
      "hi 92\n",
      "hi 93\n",
      "hi 94\n",
      "hi 95\n",
      "hi 96\n",
      "hi 97\n",
      "hi 98\n",
      "hi 99\n"
     ]
    }
   ],
   "source": [
    "for i in range(100):\n",
    "    print('hi', i)"
   ]
  },
  {
   "cell_type": "code",
   "execution_count": 66,
   "id": "2c5a80a2",
   "metadata": {},
   "outputs": [
    {
     "name": "stdout",
     "output_type": "stream",
     "text": [
      "for문 공부중 0\n",
      "for문 공부중 2\n",
      "for문 공부중 4\n",
      "for문 공부중 6\n",
      "for문 공부중 8\n"
     ]
    }
   ],
   "source": [
    "for i in range(0,10,2): #for 변수 in range(시작값, 끝값+1, 증가값):\n",
    "    print('for문 공부중',i)"
   ]
  },
  {
   "cell_type": "code",
   "execution_count": 68,
   "id": "bfab2c23",
   "metadata": {},
   "outputs": [
    {
     "name": "stdout",
     "output_type": "stream",
     "text": [
      "1부터 10 까지의 합: 2500\n"
     ]
    }
   ],
   "source": [
    "sum=0\n",
    "for number in range(1,101,2):\n",
    "    sum+= number\n",
    "print('1부터 10 까지의 합: %d'%sum)"
   ]
  },
  {
   "cell_type": "code",
   "execution_count": 74,
   "id": "d45b1dc4",
   "metadata": {},
   "outputs": [
    {
     "name": "stdout",
     "output_type": "stream",
     "text": [
      "몇단을 출력할것 입니까?3\n",
      "3 * 1 = 3\n",
      "3 * 2 = 6\n",
      "3 * 3 = 9\n",
      "3 * 4 = 12\n",
      "3 * 5 = 15\n",
      "3 * 6 = 18\n",
      "3 * 7 = 21\n",
      "3 * 8 = 24\n",
      "3 * 9 = 27\n"
     ]
    }
   ],
   "source": [
    "n =int(input(\"몇단을 출력할것 입니까?\"))\n",
    "for i in range(1,10):\n",
    "    print(n, '*',i,'=',n*i) #print('%d*%d=%d'%(n,i,n*i))"
   ]
  },
  {
   "cell_type": "code",
   "execution_count": 82,
   "id": "50edf911",
   "metadata": {},
   "outputs": [
    {
     "name": "stdout",
     "output_type": "stream",
     "text": [
      "1부터 10까지 3의 배수의 합계 : 18\n"
     ]
    }
   ],
   "source": [
    "# 1부터 10까지의 숫자중 3의 배수의 합계를 구하시오.\n",
    "sum=0\n",
    "for num in range(1,11):\n",
    "    if num % 3 == 0:\n",
    "        sum+=num\n",
    "print('1부터 10까지 3의 배수의 합계 : %d'%sum)"
   ]
  },
  {
   "cell_type": "code",
   "execution_count": 83,
   "id": "bc7dd470",
   "metadata": {},
   "outputs": [
    {
     "name": "stdout",
     "output_type": "stream",
     "text": [
      "파이썬 중첩(i값: 0, k값: 0)\n",
      "파이썬 중첩(i값: 0, k값: 1)\n",
      "파이썬 중첩(i값: 1, k값: 0)\n",
      "파이썬 중첩(i값: 1, k값: 1)\n",
      "파이썬 중첩(i값: 2, k값: 0)\n",
      "파이썬 중첩(i값: 2, k값: 1)\n"
     ]
    }
   ],
   "source": [
    "for i in range(0,3,1):\n",
    "    for k in range(0,2,1):\n",
    "        print('파이썬 중첩(i값: %d, k값: %d)'%(i,k))"
   ]
  },
  {
   "cell_type": "code",
   "execution_count": 88,
   "id": "97fbc370",
   "metadata": {},
   "outputs": [
    {
     "name": "stdout",
     "output_type": "stream",
     "text": [
      "*****\n",
      "*****\n",
      "*****\n",
      "*****\n",
      "*****\n"
     ]
    }
   ],
   "source": [
    "for i in range(5):\n",
    "    for j in range(5):\n",
    "        print(\"*\",end=\"\")\n",
    "    print()"
   ]
  },
  {
   "cell_type": "code",
   "execution_count": 96,
   "id": "03d79dbe",
   "metadata": {},
   "outputs": [
    {
     "name": "stdout",
     "output_type": "stream",
     "text": [
      "*****\n",
      "****\n",
      "***\n",
      "**\n",
      "*\n"
     ]
    }
   ],
   "source": [
    "for i in range(5):\n",
    "    for j in range(5):\n",
    "        if j>=i:\n",
    "            print('*',end=\"\")\n",
    "    print()"
   ]
  },
  {
   "cell_type": "code",
   "execution_count": 95,
   "id": "1dfff7a3",
   "metadata": {},
   "outputs": [
    {
     "name": "stdout",
     "output_type": "stream",
     "text": [
      "*        \n",
      "  *      \n",
      "    *    \n",
      "      *  \n",
      "        *\n"
     ]
    }
   ],
   "source": [
    "for i in range(5):\n",
    "    for j in range(5):\n",
    "        if j==i:\n",
    "            print(\"*\",end = \"\")\n",
    "        else:\n",
    "            print(\"  \",end= \"\")\n",
    "    print()"
   ]
  },
  {
   "cell_type": "code",
   "execution_count": null,
   "id": "57451dae",
   "metadata": {},
   "outputs": [],
   "source": []
  }
 ],
 "metadata": {
  "kernelspec": {
   "display_name": "Python 3 (ipykernel)",
   "language": "python",
   "name": "python3"
  },
  "language_info": {
   "codemirror_mode": {
    "name": "ipython",
    "version": 3
   },
   "file_extension": ".py",
   "mimetype": "text/x-python",
   "name": "python",
   "nbconvert_exporter": "python",
   "pygments_lexer": "ipython3",
   "version": "3.10.4"
  }
 },
 "nbformat": 4,
 "nbformat_minor": 5
}
