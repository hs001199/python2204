{
 "cells": [
  {
   "cell_type": "code",
   "execution_count": 4,
   "id": "9678a777",
   "metadata": {},
   "outputs": [
    {
     "name": "stdout",
     "output_type": "stream",
     "text": [
      "8 11 14 17 20\n"
     ]
    }
   ],
   "source": [
    "def calc():\n",
    "    a=3\n",
    "    b=5\n",
    "    def mul_add(x):\n",
    "        return a*x+b\n",
    "    return mul_add\n",
    "c = calc()\n",
    "print(c(1),c(2),c(3),c(4),c(5))"
   ]
  },
  {
   "cell_type": "code",
   "execution_count": 11,
   "id": "74650366",
   "metadata": {},
   "outputs": [
    {
     "name": "stdout",
     "output_type": "stream",
     "text": [
      "8\n",
      "19\n",
      "33\n"
     ]
    }
   ],
   "source": [
    "def calc():\n",
    "    a=3\n",
    "    b=5\n",
    "    total = 0\n",
    "    def mul_add(x):\n",
    "        nonlocal total\n",
    "        total  =total+a*x+b\n",
    "        print(total)\n",
    "    return mul_add\n",
    "    \n",
    "c= calc()\n",
    "c(1)\n",
    "c(2)\n",
    "c(3)"
   ]
  },
  {
   "cell_type": "code",
   "execution_count": 21,
   "id": "e8da6660",
   "metadata": {},
   "outputs": [],
   "source": [
    "class person:\n",
    "    def greeting(self):\n",
    "        print('hello')\n",
    "    \n",
    "    def hello(self):\n",
    "        self.greeting()\n",
    "        \n",
    "james = person()\n",
    "maria=person()\n"
   ]
  },
  {
   "cell_type": "code",
   "execution_count": 15,
   "id": "3fc08e66",
   "metadata": {},
   "outputs": [
    {
     "name": "stdout",
     "output_type": "stream",
     "text": [
      "hello\n"
     ]
    }
   ],
   "source": [
    "james.greeting()"
   ]
  },
  {
   "cell_type": "code",
   "execution_count": 19,
   "id": "7c7de258",
   "metadata": {},
   "outputs": [
    {
     "name": "stdout",
     "output_type": "stream",
     "text": [
      "hello\n"
     ]
    }
   ],
   "source": [
    "maria.greeting()"
   ]
  },
  {
   "cell_type": "code",
   "execution_count": 22,
   "id": "58d7e99f",
   "metadata": {},
   "outputs": [
    {
     "name": "stdout",
     "output_type": "stream",
     "text": [
      "hello\n"
     ]
    }
   ],
   "source": [
    "james.hello()"
   ]
  },
  {
   "cell_type": "code",
   "execution_count": 25,
   "id": "8ada20ea",
   "metadata": {},
   "outputs": [
    {
     "name": "stdout",
     "output_type": "stream",
     "text": [
      "안녕하세요\n"
     ]
    }
   ],
   "source": [
    "class person:\n",
    "    def __init__(self):\n",
    "        self.hello = '안녕하세요'\n",
    "        \n",
    "    def greeting(self):\n",
    "        print(self.hello)\n",
    "\n",
    "james = person()\n",
    "james.greeting()"
   ]
  },
  {
   "cell_type": "code",
   "execution_count": 38,
   "id": "b0d2cd13",
   "metadata": {},
   "outputs": [
    {
     "name": "stdout",
     "output_type": "stream",
     "text": [
      "안녕하세요. 저는 마리아입니다.\n",
      "안녕하세요. 저는 쩨임스입니다.\n",
      "이름 : 마리아\n",
      "나이 :  20\n",
      "주소: 서울시 서초구 반포동\n",
      "이름 :  쩨임스\n",
      "나이 :  100\n",
      "주소 :  북한 평양\n"
     ]
    }
   ],
   "source": [
    "class Person:\n",
    "   def __init__(self, name, age, address): # Person 클래스에(hello, name, age, address) 속성이 존재\n",
    "       self.hello = '안녕하세요.'\n",
    "       self.name = name\n",
    "       self.age = age\n",
    "       self.address = address\n",
    "\n",
    "   def greeting(self):\n",
    "       print('{0} 저는 {1}입니다.'.format(self.hello, self.name))\n",
    "\n",
    "maria = Person('마리아', 20, '서울시 서초구 반포동')\n",
    "maria.greeting()  # 안녕하세요. 저는 마리아입니다.\n",
    "\n",
    "james = Person('쩨임스', 100, '북한 평양')\n",
    "james.greeting()\n",
    "print('이름 :', maria.name)\n",
    "print('나이 : ', maria.age)\n",
    "print('주소:', maria.address)\n",
    "\n",
    "\n",
    "print('이름 : ', james.name)\n",
    "print('나이 : ', james.age)\n",
    "print('주소 : ', james. address)"
   ]
  },
  {
   "cell_type": "code",
   "execution_count": 48,
   "id": "7b96f5fc",
   "metadata": {},
   "outputs": [
    {
     "name": "stdout",
     "output_type": "stream",
     "text": [
      "이제 10000원 남았네요\n"
     ]
    }
   ],
   "source": [
    "class Person:\n",
    "    def __init__(self, name, age, address, wallet):\n",
    "        self.name = name\n",
    "        self. age = age\n",
    "        self. address = address\n",
    "        self.__wallet = wallet\n",
    "    def pay (self, amount):\n",
    "        self.__wallet -= amount\n",
    "        print('이제 {0}원 남았네요'.format(self.__wallet))\n",
    "\n",
    "        \n",
    "maria = Person ('마리아', 20, '서울시 서초구 반포동', 10000)\n",
    "maria.pay(0)"
   ]
  },
  {
   "cell_type": "code",
   "execution_count": 40,
   "id": "8d83b3be",
   "metadata": {},
   "outputs": [
    {
     "data": {
      "text/plain": [
       "'마리아'"
      ]
     },
     "execution_count": 40,
     "metadata": {},
     "output_type": "execute_result"
    }
   ],
   "source": [
    "maria.name"
   ]
  },
  {
   "cell_type": "code",
   "execution_count": 41,
   "id": "6c9543b3",
   "metadata": {},
   "outputs": [
    {
     "data": {
      "text/plain": [
       "'서울시 서초구 반포동'"
      ]
     },
     "execution_count": 41,
     "metadata": {},
     "output_type": "execute_result"
    }
   ],
   "source": [
    "maria. address"
   ]
  },
  {
   "cell_type": "code",
   "execution_count": 54,
   "id": "e078d326",
   "metadata": {},
   "outputs": [
    {
     "name": "stdout",
     "output_type": "stream",
     "text": [
      "['책', '열쇠']\n",
      "['책', '열쇠']\n"
     ]
    }
   ],
   "source": [
    "class Person:\n",
    "    bag = []\n",
    "    def put_bag(self, stuff):\n",
    "        self.bag.append(stuff)\n",
    "        \n",
    "james = Person()\n",
    "james.put_bag('책')\n",
    "\n",
    "maria = Person()\n",
    "maria.put_bag('열쇠')\n",
    "\n",
    "print(james.bag)\n",
    "print(maria.bag)"
   ]
  },
  {
   "cell_type": "code",
   "execution_count": 59,
   "id": "269e9594",
   "metadata": {},
   "outputs": [
    {
     "ename": "TypeError",
     "evalue": "Person.__init__() missing 1 required positional argument: 'name'",
     "output_type": "error",
     "traceback": [
      "\u001b[1;31m---------------------------------------------------------------------------\u001b[0m",
      "\u001b[1;31mTypeError\u001b[0m                                 Traceback (most recent call last)",
      "Input \u001b[1;32mIn [59]\u001b[0m, in \u001b[0;36m<cell line: 12>\u001b[1;34m()\u001b[0m\n\u001b[0;32m      9\u001b[0m james \u001b[38;5;241m=\u001b[39m Person(james)\n\u001b[0;32m     10\u001b[0m james\u001b[38;5;241m.\u001b[39mput_bag(\u001b[38;5;124m'\u001b[39m\u001b[38;5;124m책\u001b[39m\u001b[38;5;124m'\u001b[39m)\n\u001b[1;32m---> 12\u001b[0m maria \u001b[38;5;241m=\u001b[39m \u001b[43mPerson\u001b[49m\u001b[43m(\u001b[49m\u001b[43m)\u001b[49m\n\u001b[0;32m     13\u001b[0m maria\u001b[38;5;241m.\u001b[39mput_bag(\u001b[38;5;124m'\u001b[39m\u001b[38;5;124m열쇠\u001b[39m\u001b[38;5;124m'\u001b[39m)\n\u001b[0;32m     15\u001b[0m \u001b[38;5;28mprint\u001b[39m(james\u001b[38;5;241m.\u001b[39mbag)\n",
      "\u001b[1;31mTypeError\u001b[0m: Person.__init__() missing 1 required positional argument: 'name'"
     ]
    }
   ],
   "source": [
    "class Person:\n",
    "    def __init__(self):\n",
    "        self.bag = []\n",
    "    \n",
    "    def put_bag(self, stuff):\n",
    "        self.bag.append(stuff)\n",
    "\n",
    "        \n",
    "james = Person()\n",
    "james.put_bag('책')\n",
    "\n",
    "maria = Person()\n",
    "maria.put_bag('열쇠')\n",
    "\n",
    "print(james.bag)\n",
    "print(maria.bag)"
   ]
  },
  {
   "cell_type": "code",
   "execution_count": 64,
   "id": "a061e440",
   "metadata": {},
   "outputs": [
    {
     "name": "stdout",
     "output_type": "stream",
     "text": [
      "안녕\n",
      "공부하기\n"
     ]
    }
   ],
   "source": [
    "class Person:\n",
    "    def greeting(self):\n",
    "        print('안녕')\n",
    "        \n",
    "class Student(Person):\n",
    "    def study(self):\n",
    "        print('공부하기')\n",
    "\n",
    "james= Student()\n",
    "james.greeting()\n",
    "james.study()"
   ]
  },
  {
   "cell_type": "code",
   "execution_count": 67,
   "id": "663f9397",
   "metadata": {},
   "outputs": [
    {
     "name": "stdout",
     "output_type": "stream",
     "text": [
      "안녕하세요\n",
      "안녕하세요 저는 한국 it학원 학생입니다\n"
     ]
    }
   ],
   "source": [
    "class Person:\n",
    "    def greeting(self):\n",
    "        print('안녕하세요')\n",
    "\n",
    "class Student(Person):\n",
    "    def greeting(self):\n",
    "        super().greeting()\n",
    "        print('안녕하세요 저는 한국 it학원 학생입니다')\n",
    "        \n",
    "\n",
    "james= Student()\n",
    "james.greeting()"
   ]
  },
  {
   "cell_type": "code",
   "execution_count": 69,
   "id": "f8ebf019",
   "metadata": {},
   "outputs": [
    {
     "name": "stdout",
     "output_type": "stream",
     "text": [
      "안녕\n",
      "학점관리\n",
      "공부하기\n"
     ]
    }
   ],
   "source": [
    "class Person:\n",
    "    def greeting(self):\n",
    "        print('안녕')\n",
    "\n",
    "class University:\n",
    "    def manage_credit(self):\n",
    "        print('학점관리')\n",
    "\n",
    "class Undergraduate(Person,University):\n",
    "    def study(self):\n",
    "        print('공부하기')\n",
    "\n",
    "james = Undergraduate()\n",
    "\n",
    "james.greeting()\n",
    "\n",
    "james.manage_credit()\n",
    "\n",
    "james.study()"
   ]
  },
  {
   "cell_type": "code",
   "execution_count": null,
   "id": "95704617",
   "metadata": {},
   "outputs": [],
   "source": []
  },
  {
   "cell_type": "code",
   "execution_count": null,
   "id": "f67b1b78",
   "metadata": {},
   "outputs": [],
   "source": []
  },
  {
   "cell_type": "code",
   "execution_count": null,
   "id": "9f08cb44",
   "metadata": {},
   "outputs": [],
   "source": []
  },
  {
   "cell_type": "code",
   "execution_count": null,
   "id": "81494345",
   "metadata": {},
   "outputs": [],
   "source": []
  },
  {
   "cell_type": "code",
   "execution_count": null,
   "id": "9bfb384e",
   "metadata": {},
   "outputs": [],
   "source": []
  }
 ],
 "metadata": {
  "kernelspec": {
   "display_name": "Python 3 (ipykernel)",
   "language": "python",
   "name": "python3"
  },
  "language_info": {
   "codemirror_mode": {
    "name": "ipython",
    "version": 3
   },
   "file_extension": ".py",
   "mimetype": "text/x-python",
   "name": "python",
   "nbconvert_exporter": "python",
   "pygments_lexer": "ipython3",
   "version": "3.10.4"
  }
 },
 "nbformat": 4,
 "nbformat_minor": 5
}
