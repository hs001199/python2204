{
 "cells": [
  {
   "cell_type": "code",
   "execution_count": 9,
   "id": "a9ee25c2",
   "metadata": {},
   "outputs": [
    {
     "name": "stdout",
     "output_type": "stream",
     "text": [
      "False\n"
     ]
    }
   ],
   "source": [
    "korean = 92\n",
    "english = 47\n",
    "mathematics = 86\n",
    "science = 81\n",
    " \n",
    "print(korean >= 80 and english >= 80 and mathematics >= 80 and science >= 80)  "
   ]
  },
  {
   "cell_type": "code",
   "execution_count": 17,
   "id": "33847bc1",
   "metadata": {},
   "outputs": [
    {
     "name": "stdout",
     "output_type": "stream",
     "text": [
      "숫자 두개를 입력하시오50 10\n",
      "50 + 10 = 60\n",
      "50 - 10 = 40\n",
      "50 * 10 = 500\n",
      "50 / 10 = 5.0\n"
     ]
    }
   ],
   "source": [
    "# 숫자 두개를 입력 받아서 사칙연산을 출력하는 프로 그램\n",
    "\n",
    "a,b = map(int,input(\"숫자 두개를 입력하시오\").split())\n",
    "\n",
    "print(a,'+', b,\"=\",a+b) \n",
    "print(a,'-', b,'=',a-b) \n",
    "print(a,'*', b,'=',a*b) \n",
    "print(a,'/',b,'=',a/b)\n",
    "\n",
    "#print('%d * %d = %d'%(a,b,a*b))"
   ]
  },
  {
   "cell_type": "code",
   "execution_count": 25,
   "id": "7e04db59",
   "metadata": {},
   "outputs": [
    {
     "name": "stdout",
     "output_type": "stream",
     "text": [
      "교환할 금액 입력9756\n",
      "500원 19 개\n",
      "100원 2 개\n",
      "50원짜리 1개\n",
      "10원짜리 0개\n"
     ]
    }
   ],
   "source": [
    "# 동전교환기\n",
    "\n",
    "money, c500, c100, c50, c10 = 0,0,0,0,0 #초기화 하기 위한 값\n",
    "money = int(input('교환할 금액 입력'))\n",
    "\n",
    "c500 = money//500\n",
    "money = money % 500 #나머지\n",
    "c100 = money//100\n",
    "money = money%100\n",
    "c50 = money//50\n",
    "money = money%50  #money%=10\n",
    "c10= money//10\n",
    "print('500원',c500,'개')\n",
    "print('100원',c100,'개')\n",
    "print('50원짜리 %d개'%c50)\n",
    "print('10원짜리 %d개'%c10)"
   ]
  },
  {
   "cell_type": "code",
   "execution_count": 26,
   "id": "cc55e6c7",
   "metadata": {},
   "outputs": [
    {
     "name": "stdout",
     "output_type": "stream",
     "text": [
      "[1, 2, 3]\n"
     ]
    },
    {
     "data": {
      "text/plain": [
       "list"
      ]
     },
     "execution_count": 26,
     "metadata": {},
     "output_type": "execute_result"
    }
   ],
   "source": [
    "lst_a = [1,2,3]\n",
    "print(lst_a)\n",
    "type(lst_a)  #리스트에 저장된 각 값은 요소(element)라고 부른다."
   ]
  },
  {
   "cell_type": "code",
   "execution_count": 29,
   "id": "56f4a706",
   "metadata": {},
   "outputs": [
    {
     "name": "stdout",
     "output_type": "stream",
     "text": [
      "['홍길동', 19, 181.5, True]\n"
     ]
    }
   ],
   "source": [
    "person = ['홍길동',19,181.5,True]\n",
    "print(person)"
   ]
  },
  {
   "cell_type": "code",
   "execution_count": 30,
   "id": "671ca296",
   "metadata": {},
   "outputs": [],
   "source": [
    "lst_a = []"
   ]
  },
  {
   "cell_type": "code",
   "execution_count": 31,
   "id": "d431eb54",
   "metadata": {},
   "outputs": [
    {
     "name": "stdout",
     "output_type": "stream",
     "text": [
      "[0, 1, 2, 3, 4, 5, 6, 7, 8, 9]\n"
     ]
    }
   ],
   "source": [
    "lst_a = list(range(10))\n",
    "print(lst_a)"
   ]
  },
  {
   "cell_type": "code",
   "execution_count": 39,
   "id": "a44c58db",
   "metadata": {},
   "outputs": [
    {
     "name": "stdout",
     "output_type": "stream",
     "text": [
      "['red', 'blue', 'green']\n",
      "red\n",
      "green\n",
      "3\n"
     ]
    }
   ],
   "source": [
    "colors =['red','blue','green']\n",
    "print(colors)\n",
    "print(colors[0])\n",
    "print(coloss[2]) #0 부터 시작\n",
    "print(len(colors))"
   ]
  },
  {
   "cell_type": "code",
   "execution_count": 41,
   "id": "317867b2",
   "metadata": {},
   "outputs": [
    {
     "name": "stdout",
     "output_type": "stream",
     "text": [
      "[3, 4]\n",
      "[0, 1, 2, 3, 4, 5, 6, 7, 8, 9]\n"
     ]
    }
   ],
   "source": [
    "lst_a = list(range(10))\n",
    "print(lst_a[3:5])\n",
    "print(lst_a)"
   ]
  },
  {
   "cell_type": "code",
   "execution_count": 50,
   "id": "2317f182",
   "metadata": {},
   "outputs": [
    {
     "name": "stdout",
     "output_type": "stream",
     "text": [
      "['서울', '부산', '인천', '대구', '대전']\n",
      "['대구', '대전']\n",
      "['광주', '울산', '수원']\n"
     ]
    }
   ],
   "source": [
    "area = ['서울','부산','인천','대구','대전','광주','울산','수원']\n",
    "print(area[0:5])\n",
    "print(area[3:5])\n",
    "\n",
    "print(area[5:]) #어떤 숫자부터 끝까지 가져오는 법"
   ]
  },
  {
   "cell_type": "code",
   "execution_count": 44,
   "id": "a488e946",
   "metadata": {},
   "outputs": [
    {
     "name": "stdout",
     "output_type": "stream",
     "text": [
      "['서울', '부산', '인천', '대구', '대전', '광주', '울산', '수원']\n"
     ]
    }
   ],
   "source": [
    "area = ['서울','부산','인천','대구','대전','광주','울산','수원']\n",
    "print(area[-8:])"
   ]
  },
  {
   "cell_type": "code",
   "execution_count": 54,
   "id": "daae97b4",
   "metadata": {},
   "outputs": [
    {
     "name": "stdout",
     "output_type": "stream",
     "text": [
      "['서울', '인천', '대전', '울산']\n",
      "['수원', '울산', '광주', '대전', '대구', '인천', '부산', '서울']\n"
     ]
    }
   ],
   "source": [
    "area = ['서울','부산','인천','대구','대전','광주','울산','수원']\n",
    "print(area[::2])\n",
    "print(area[::-1])\n"
   ]
  },
  {
   "cell_type": "code",
   "execution_count": 56,
   "id": "a3ba3765",
   "metadata": {},
   "outputs": [
    {
     "name": "stdout",
     "output_type": "stream",
     "text": [
      "['rea', 'blue', 'green', 'white']\n"
     ]
    }
   ],
   "source": [
    "color = ['rea','blue','green']\n",
    "color.append('white')\n",
    "print(color)"
   ]
  },
  {
   "cell_type": "code",
   "execution_count": 57,
   "id": "bc181b05",
   "metadata": {},
   "outputs": [
    {
     "name": "stdout",
     "output_type": "stream",
     "text": [
      "['orange', 'rea', 'blue', 'green', 'white']\n"
     ]
    }
   ],
   "source": [
    "color.insert(0,'orange')\n",
    "print(color)"
   ]
  },
  {
   "cell_type": "code",
   "execution_count": 62,
   "id": "c8d372a2",
   "metadata": {
    "scrolled": true
   },
   "outputs": [
    {
     "name": "stdout",
     "output_type": "stream",
     "text": [
      "['rea', 'blue', 'green', 'white']\n"
     ]
    }
   ],
   "source": [
    "color.remove('orange')\n",
    "print(color)"
   ]
  },
  {
   "cell_type": "code",
   "execution_count": 64,
   "id": "ffc4af30",
   "metadata": {},
   "outputs": [
    {
     "name": "stdout",
     "output_type": "stream",
     "text": [
      "['rea', 'blue', 'orange', 'green', 'white']\n"
     ]
    }
   ],
   "source": [
    "color=['rea', 'blue', 'green', 'white']\n",
    "color.insert(2,'orange')\n",
    "print(color)"
   ]
  },
  {
   "cell_type": "code",
   "execution_count": 65,
   "id": "390a7301",
   "metadata": {},
   "outputs": [
    {
     "name": "stdout",
     "output_type": "stream",
     "text": [
      "(1, 2, 3)\n"
     ]
    }
   ],
   "source": [
    "t1 = (1,2,3)\n",
    "print(t1)"
   ]
  },
  {
   "cell_type": "code",
   "execution_count": 66,
   "id": "c7a4c811",
   "metadata": {},
   "outputs": [
    {
     "name": "stdout",
     "output_type": "stream",
     "text": [
      "2\n"
     ]
    }
   ],
   "source": [
    "print(t1[1])"
   ]
  },
  {
   "cell_type": "code",
   "execution_count": 70,
   "id": "0ffffe2f",
   "metadata": {},
   "outputs": [
    {
     "name": "stdout",
     "output_type": "stream",
     "text": [
      "[1, 2, 3, 4]\n",
      "(1, 2, 3, 4)\n"
     ]
    }
   ],
   "source": [
    "#리스트와 튜플의 관계\n",
    "t1 = (1,2,3)# 튜플을 생성\n",
    "lst = list(t1)#튜플을 리스트 변화\n",
    "lst.append(4) #항목추가\n",
    "print(lst) \n",
    "t1= tuple(lst) #리스트를 튜플로 변환\n",
    "print(t1) #튜플결과"
   ]
  },
  {
   "cell_type": "code",
   "execution_count": 75,
   "id": "6d2c6e57",
   "metadata": {},
   "outputs": [
    {
     "name": "stdout",
     "output_type": "stream",
     "text": [
      "name 홍길동\n",
      "phone 010-1234-1234\n",
      "addr 청주시 상당구\n"
     ]
    }
   ],
   "source": [
    "dic1 = {'name': '홍길동','phone':'010-1234-1234', 'addr': '청주시 상당구'}\n",
    "for key, value in dic1.items(): #제어문 뒤쪽에는 colon을 붙여준다\n",
    "    print(key,value)"
   ]
  },
  {
   "cell_type": "code",
   "execution_count": 76,
   "id": "14a49309",
   "metadata": {},
   "outputs": [
    {
     "name": "stdout",
     "output_type": "stream",
     "text": [
      "홍길동\n",
      "010-1234-1234\n",
      "{'name': '홍길동', 'phone': '010-1234-1234', 'addr': '청주시 상당구'}\n"
     ]
    }
   ],
   "source": [
    "print(dic1['name'])\n",
    "print(dic1['phone'])\n",
    "print(dic1)"
   ]
  },
  {
   "cell_type": "code",
   "execution_count": 78,
   "id": "c528100e",
   "metadata": {},
   "outputs": [
    {
     "name": "stdout",
     "output_type": "stream",
     "text": [
      "{'h', 'e', 'o', 'l'}\n",
      "{1, 2, 3, 5}\n"
     ]
    }
   ],
   "source": [
    "s1 =  set('hello')\n",
    "print(s1)\n",
    "s2 = set([1,2,3,3,5])\n",
    "print(s2)"
   ]
  },
  {
   "cell_type": "code",
   "execution_count": 80,
   "id": "3f67f1be",
   "metadata": {},
   "outputs": [
    {
     "name": "stdout",
     "output_type": "stream",
     "text": [
      "{1, 2, 3}\n",
      "{4, 5, 6}\n",
      "{1, 2, 3, 4, 5, 6, 7, 8, 9}\n"
     ]
    }
   ],
   "source": [
    "s1 = set([1,2,3,4,5,6])\n",
    "s2 = set([4,5,6,7,8,9])\n",
    "print(s1-s2)#차집합\n",
    "print(s1&s2)#교집합\n",
    "print(s1 |s2 )#합집합 ##enter 위에 |||||"
   ]
  },
  {
   "cell_type": "code",
   "execution_count": 84,
   "id": "4ab269b4",
   "metadata": {},
   "outputs": [
    {
     "name": "stdout",
     "output_type": "stream",
     "text": [
      "{1, 2, 3, 4, 5, 6, 7}\n"
     ]
    }
   ],
   "source": [
    "s1 = set([1,2,3,4,5,6])\n",
    "s1.add(7)\n",
    "print(s1)"
   ]
  },
  {
   "cell_type": "code",
   "execution_count": 86,
   "id": "062d57e9",
   "metadata": {},
   "outputs": [
    {
     "name": "stdout",
     "output_type": "stream",
     "text": [
      "첫 번째 값 입력10\n",
      "두번째 값 입력20\n",
      "세번째 값 입력30\n",
      "네번째 값 입력40\n",
      "합계는= 100\n"
     ]
    }
   ],
   "source": [
    "a,b,c,d, = 0,0,0,0\n",
    "plus = 0\n",
    "a = int(input('첫 번째 값 입력'))\n",
    "b = int(input('두번째 값 입력'))\n",
    "c = int(input('세번째 값 입력'))\n",
    "d = int(input('네번째 값 입력'))\n",
    "\n",
    "plus = a+b+c+d\n",
    "print('합계는=',plus)"
   ]
  },
  {
   "cell_type": "code",
   "execution_count": 87,
   "id": "63c005da",
   "metadata": {},
   "outputs": [
    {
     "name": "stdout",
     "output_type": "stream",
     "text": [
      "첫 번째 값 입력10\n",
      "두 번째 값 입력20\n",
      "세 번째 값 입력30\n",
      "네 번째 값 입력40\n",
      "합계는 100\n"
     ]
    }
   ],
   "source": [
    "aa = [0,0,0,0]\n",
    "plus = 0 \n",
    "\n",
    "aa[0] = int(input('첫 번째 값 입력'))\n",
    "aa[1] =int(input('두 번째 값 입력'))\n",
    "aa[2] = int(input('세 번째 값 입력'))\n",
    "aa[3]= int(input('네 번째 값 입력'))\n",
    "\n",
    "\n",
    "plus = aa[0]+aa[1]+aa[2]+aa[3]\n",
    "print('합계는',plus)"
   ]
  },
  {
   "cell_type": "code",
   "execution_count": null,
   "id": "86723447",
   "metadata": {},
   "outputs": [],
   "source": []
  }
 ],
 "metadata": {
  "kernelspec": {
   "display_name": "Python 3 (ipykernel)",
   "language": "python",
   "name": "python3"
  },
  "language_info": {
   "codemirror_mode": {
    "name": "ipython",
    "version": 3
   },
   "file_extension": ".py",
   "mimetype": "text/x-python",
   "name": "python",
   "nbconvert_exporter": "python",
   "pygments_lexer": "ipython3",
   "version": "3.10.4"
  }
 },
 "nbformat": 4,
 "nbformat_minor": 5
}
