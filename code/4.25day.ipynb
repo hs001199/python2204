{
 "cells": [
  {
   "cell_type": "code",
   "execution_count": 11,
   "id": "e53c72d9",
   "metadata": {},
   "outputs": [
    {
     "name": "stdout",
     "output_type": "stream",
     "text": [
      "자동차 1의 색상은 빨강이며, 현재 속도는 30km입니다\n",
      "자동차 2의 색상은 파랑이며, 현재 속도는 60km입니다\n",
      "자동차 3의 색상은 노랑이며, 현재 속도는 150km입니다\n"
     ]
    }
   ],
   "source": [
    "class Car:\n",
    "    color = ''\n",
    "    speed =0\n",
    "    \n",
    "    def upSpeed(self, value):\n",
    "        self.speed += value\n",
    "        if self.speed > 150:\n",
    "            self.speed =150\n",
    "            \n",
    "            \n",
    "        \n",
    "    def downSpeed(self, value):\n",
    "        self.speed-= value\n",
    "        \n",
    "        \n",
    "        \n",
    "    \n",
    "Car1 = Car()\n",
    "Car1.color = '빨강'\n",
    "Car1. speed = 0\n",
    "Car2 = Car()\n",
    "Car2.color = \"파랑\"\n",
    "Car2. speed = 0\n",
    "Car3 = Car()\n",
    "Car3.color = '노랑'\n",
    "Car3.speed = 0\n",
    "\n",
    "\n",
    "Car1. upSpeed(30)\n",
    "print('자동차 1의 색상은 %s이며, 현재 속도는 %dkm입니다'%(Car1.color,Car1.speed))\n",
    "Car2. upSpeed(60)\n",
    "print('자동차 2의 색상은 %s이며, 현재 속도는 %dkm입니다'%(Car2.color, Car2.speed))\n",
    "Car3. upSpeed(200)\n",
    "print('자동차 3의 색상은 %s이며, 현재 속도는 %dkm입니다'%(Car3.color, Car3.speed))"
   ]
  },
  {
   "cell_type": "code",
   "execution_count": 20,
   "id": "aaefb3a2",
   "metadata": {},
   "outputs": [
    {
     "name": "stdout",
     "output_type": "stream",
     "text": [
      "자동차 1의 현재 속도는 30km, 생산된 자동차는 총 1대 입니다 \n",
      "자동차 2의 현재 속도는 200km, 생산된 차량은 총 2대입니다\n"
     ]
    }
   ],
   "source": [
    "class Car :\n",
    "    color = ''\n",
    "    speed = 0\n",
    "\n",
    "    count = 0\n",
    "    \n",
    "    def __init__(self):\n",
    "        self.speed = 0\n",
    "        Car.count += 1\n",
    "        \n",
    "myCar1, myCar2 = None, None\n",
    "\n",
    "myCar1 = Car()\n",
    "myCar1.speed = 30\n",
    "print('자동차 1의 현재 속도는 %dkm, 생산된 자동차는 총 %d대 입니다 '%(myCar1.speed,myCar1.count))\n",
    "\n",
    "\n",
    "myCar2 = Car()\n",
    "myCar2.speed = 200\n",
    "print('자동차 2의 현재 속도는 %dkm, 생산된 차량은 총 %d대입니다'%(myCar2.speed,myCar2.count))"
   ]
  },
  {
   "cell_type": "code",
   "execution_count": 21,
   "id": "997bc9de",
   "metadata": {},
   "outputs": [
    {
     "ename": "NameError",
     "evalue": "name 'dojang' is not defined",
     "output_type": "error",
     "traceback": [
      "\u001b[1;31m---------------------------------------------------------------------------\u001b[0m",
      "\u001b[1;31mNameError\u001b[0m                                 Traceback (most recent call last)",
      "Input \u001b[1;32mIn [21]\u001b[0m, in \u001b[0;36m<cell line: 1>\u001b[1;34m()\u001b[0m\n\u001b[1;32m----> 1\u001b[0m \u001b[43mdojang\u001b[49m\u001b[38;5;241m.\u001b[39mio\n",
      "\u001b[1;31mNameError\u001b[0m: name 'dojang' is not defined"
     ]
    }
   ],
   "source": [
    "dojang.io"
   ]
  },
  {
   "cell_type": "code",
   "execution_count": null,
   "id": "62934721",
   "metadata": {},
   "outputs": [],
   "source": []
  },
  {
   "cell_type": "code",
   "execution_count": null,
   "id": "454342e4",
   "metadata": {},
   "outputs": [],
   "source": []
  },
  {
   "cell_type": "code",
   "execution_count": null,
   "id": "ce81c368",
   "metadata": {},
   "outputs": [],
   "source": []
  },
  {
   "cell_type": "code",
   "execution_count": null,
   "id": "ac5dc08b",
   "metadata": {},
   "outputs": [],
   "source": []
  },
  {
   "cell_type": "code",
   "execution_count": null,
   "id": "762c1a7c",
   "metadata": {},
   "outputs": [],
   "source": []
  },
  {
   "cell_type": "code",
   "execution_count": null,
   "id": "253de9e9",
   "metadata": {},
   "outputs": [],
   "source": []
  }
 ],
 "metadata": {
  "kernelspec": {
   "display_name": "Python 3 (ipykernel)",
   "language": "python",
   "name": "python3"
  },
  "language_info": {
   "codemirror_mode": {
    "name": "ipython",
    "version": 3
   },
   "file_extension": ".py",
   "mimetype": "text/x-python",
   "name": "python",
   "nbconvert_exporter": "python",
   "pygments_lexer": "ipython3",
   "version": "3.10.4"
  }
 },
 "nbformat": 4,
 "nbformat_minor": 5
}
